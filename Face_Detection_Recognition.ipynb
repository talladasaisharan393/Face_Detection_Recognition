{
 "cells": [
  {
   "cell_type": "markdown",
   "id": "ac3e93d0-ffa1-4c80-ac79-bbe2d6a55eaf",
   "metadata": {},
   "source": [
    "# Face_Detection_Recognition"
   ]
  },
  {
   "cell_type": "markdown",
   "id": "7cd86f96-6ea4-45d0-9357-595f75dca391",
   "metadata": {},
   "source": [
    "## Step 1: Dataset Selection\n",
    "We will use the LFW (Labeled Faces in the Wild) dataset, which is simple and commonly used for face recognition tasks. We can download it using scikit-learn's built-in function"
   ]
  },
  {
   "cell_type": "code",
   "execution_count": 1,
   "id": "a88e9464-abf1-4d8f-ad9d-470ac4c69f14",
   "metadata": {},
   "outputs": [],
   "source": [
    "from sklearn.datasets import fetch_lfw_people \n",
    "\n",
    "# downloading the dataset\n",
    "lfw_dataset = fetch_lfw_people(min_faces_per_person=70, download_if_missing=True)"
   ]
  },
  {
   "cell_type": "markdown",
   "id": "364385fd-7c9b-4c4e-81a4-39bbd39f7219",
   "metadata": {},
   "source": [
    "### Very Detailed Explanation of above cell\n",
    "\n",
    "We are importing the fetch_lfw_people function from the sklearn.datasets module\n",
    "\n",
    "We are calling the fetch_lfw_people function to download the dataset if it is not already present and to load it. We are setting min_faces_per_person=70 to ensure that each person in the dataset has at least 70 images"
   ]
  },
  {
   "cell_type": "markdown",
   "id": "469e9f6e-5882-4a3e-8c2f-bcf096404deb",
   "metadata": {},
   "source": [
    "## Step 2: Face Detection\n",
    "We'll use OpenCV's pre-trained Haar Cascade model for face detection. Here's the code to detect faces in the images"
   ]
  },
  {
   "cell_type": "code",
   "execution_count": 2,
   "id": "9b3a6291-1032-4e9f-8640-ab25a89ffe3b",
   "metadata": {},
   "outputs": [
    {
     "data": {
      "image/png": "[encoded data removed]",
      "text/plain": [
       "<Figure size 640x480 with 1 Axes>"
      ]
     },
     "metadata": {},
     "output_type": "display_data"
    }
   ],
   "source": [
    "# Importing necessary libraries\n",
    "import cv2\n",
    "import numpy as np\n",
    "import matplotlib.pyplot as plt\n",
    "from sklearn.datasets import fetch_lfw_people\n",
    "\n",
    "# Loading the dataset\n",
    "lfw_dataset = fetch_lfw_people(min_faces_per_person=70)\n",
    "\n",
    "# Loading Haar Cascade for face detection\n",
    "face_cascade = cv2.CascadeClassifier(cv2.data.haarcascades + 'haarcascade_frontalface_default.xml')\n",
    "\n",
    "def detect_faces(image):\n",
    "    # Checking if the image is already in grayscale\n",
    "    if len(image.shape) == 3 and image.shape[2] == 3:\n",
    "        gray = cv2.cvtColor(image, cv2.COLOR_BGR2GRAY)\n",
    "    else:\n",
    "        gray = image\n",
    "    \n",
    "    # Ensuring the image is in the right format\n",
    "    if gray.dtype != np.uint8:\n",
    "        gray = np.uint8(gray)\n",
    "\n",
    "    # Detecting faces\n",
    "    faces = face_cascade.detectMultiScale(gray, scaleFactor=1.1, minNeighbors=5)\n",
    "    return faces\n",
    "\n",
    "# Example usage\n",
    "image = lfw_dataset.images[0]\n",
    "faces = detect_faces(image)\n",
    "\n",
    "# Converting the image to BGR format for display\n",
    "if len(image.shape) == 2:  # Grayscale image\n",
    "    image_bgr = cv2.cvtColor(image, cv2.COLOR_GRAY2BGR)\n",
    "else:\n",
    "    image_bgr = image\n",
    "\n",
    "# Displaying the image with detected faces\n",
    "for (x, y, w, h) in faces:\n",
    "    cv2.rectangle(image_bgr, (x, y), (x+w, y+h), (255, 0, 0), 2)\n",
    "\n",
    "plt.imshow(cv2.cvtColor(image_bgr, cv2.COLOR_BGR2RGB))\n",
    "plt.axis('off')\n",
    "plt.show()\n"
   ]
  },
  {
   "cell_type": "markdown",
   "id": "0e23684f-0346-4f2c-89e1-c6b577284bf2",
   "metadata": {},
   "source": [
    "### Very Detailed Explanation of above cell\n",
    "\n",
    "We are importing the required libraries. cv2 is OpenCV for image processing, numpy is for handling arrays, and matplotlib.pyplot is for plotting images.\n",
    "\n",
    "We are loading the pre-trained Haar Cascade model for face detection from OpenCV.\n",
    "\n",
    "We are defining a function detect_faces to detect faces in the input image.\n",
    "\n",
    "We are checking if the image is a color image (3 channels). If it is, we are converting it to grayscale using cv2.cvtColor.\n",
    "\n",
    "If the image is already grayscale, we are using it directly.\n",
    "\n",
    "We are ensuring that the image is in 8-bit format, which is required for detection.\n",
    "\n",
    "We are detecting faces in the grayscale image. scaleFactor and minNeighbors are parameters to adjust the detection accuracy.\n",
    "\n",
    "We are selecting the first image from the dataset for demonstration.\n",
    "\n",
    "We are calling the detect_faces function to find faces in the selected image.\n",
    "\n",
    "We are checking if the image is grayscale to convert it to BGR format for displaying with OpenCV.\n",
    "\n",
    "We are iterating over detected faces and drawing rectangles around them on the image.\n",
    "\n",
    "We are converting the BGR image to RGB format for correct color display in Matplotlib.\n",
    "\n",
    "We are hiding the axes in the plot.\n",
    "\n",
    "We are displaying the image with detected faces."
   ]
  },
  {
   "cell_type": "markdown",
   "id": "9de60bba-6f06-43af-9e31-ca733bc808f5",
   "metadata": {},
   "source": [
    "## Step 3: Face Recognition\n",
    "We'll use a simple machine learning model, like PCA (Principal Component Analysis) followed by a linear classifier, for face recognition"
   ]
  },
  {
   "cell_type": "code",
   "execution_count": 3,
   "id": "61dd0526-815c-4c81-8065-527e4639bd18",
   "metadata": {},
   "outputs": [
    {
     "name": "stdout",
     "output_type": "stream",
     "text": [
      "                   precision    recall  f1-score   support\n",
      "\n",
      "    George W Bush       0.96      0.98      0.97        88\n",
      "Gerhard Schroeder       0.93      0.87      0.90        31\n",
      "\n",
      "         accuracy                           0.95       119\n",
      "        macro avg       0.94      0.92      0.93       119\n",
      "     weighted avg       0.95      0.95      0.95       119\n",
      "\n"
     ]
    }
   ],
   "source": [
    "# Importing necessary libraries\n",
    "from sklearn.decomposition import PCA\n",
    "from sklearn.svm import SVC\n",
    "from sklearn.pipeline import make_pipeline\n",
    "from sklearn.model_selection import train_test_split\n",
    "from sklearn.metrics import classification_report\n",
    "\n",
    "# Preparing the data for recognition\n",
    "X = lfw_dataset.data\n",
    "y = lfw_dataset.target\n",
    "\n",
    "# Splitting the dataset\n",
    "X_train, X_test, y_train, y_test = train_test_split(X, y, test_size=0.25, random_state=42)\n",
    "\n",
    "# Creating a PCA model followed by a Support Vector Classifier (SVC)\n",
    "pca = PCA(n_components=150, whiten=True)\n",
    "svc = SVC(kernel='linear', class_weight='balanced')\n",
    "model = make_pipeline(pca, svc)\n",
    "\n",
    "# Training the model\n",
    "model.fit(X_train, y_train)\n",
    "\n",
    "# Predicting on the test set\n",
    "y_pred = model.predict(X_test)\n",
    "\n",
    "# Displaying the classification report\n",
    "print(classification_report(y_test, y_pred, target_names=lfw_dataset.target_names))\n"
   ]
  },
  {
   "cell_type": "markdown",
   "id": "384730a1-c991-45e6-bf21-5c830fdcb8d1",
   "metadata": {},
   "source": [
    "### Very Detailed Explanation of above cell\n",
    "\n",
    "We are importing PCA from scikit-learn for dimensionality reduction.\n",
    "\n",
    "We are importing SVC from scikit-learn for classification.\n",
    "\n",
    "We are importing make_pipeline to create a pipeline combining PCA and SVC.\n",
    "\n",
    "We are importing train_test_split to split the dataset into training and testing sets.\n",
    "\n",
    "We are importing classification_report to evaluate the model's performance.\n",
    "\n",
    "We are preparing the features (images) for the model.\n",
    "\n",
    "We are preparing the target labels (names) for the model.\n",
    "\n",
    "We are splitting the dataset into training (75%) and testing (25%) sets.\n",
    "\n",
    "We are creating a PCA model with 150 components and whitening to normalize the data.\n",
    "\n",
    "We are creating an SVC model with a linear kernel and balanced class weights.\n",
    "\n",
    "We are creating a pipeline that first applies PCA and then applies SVC.\n",
    "\n",
    "We are training the model on the training data.\n",
    "\n",
    "We are predicting the labels for the test data.\n",
    "\n",
    "We are printing a classification report showing precision, recall, and F1-score for each class."
   ]
  },
  {
   "cell_type": "code",
   "execution_count": null,
   "id": "9f0fde34-f875-4d6e-9cbc-f6cb7be47dc5",
   "metadata": {},
   "outputs": [],
   "source": []
  }
 ],
 "metadata": {
  "kernelspec": {
   "display_name": "Python 3 (ipykernel)",
   "language": "python",
   "name": "python3"
  },
  "language_info": {
   "codemirror_mode": {
    "name": "ipython",
    "version": 3
   },
   "file_extension": ".py",
   "mimetype": "text/x-python",
   "name": "python",
   "nbconvert_exporter": "python",
   "pygments_lexer": "ipython3",
   "version": "3.9.5"
  }
 },
 "nbformat": 4,
 "nbformat_minor": 5
}
